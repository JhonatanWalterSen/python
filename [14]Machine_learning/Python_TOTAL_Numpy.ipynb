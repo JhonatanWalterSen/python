{
  "nbformat": 4,
  "nbformat_minor": 0,
  "metadata": {
    "colab": {
      "provenance": [],
      "include_colab_link": true
    },
    "kernelspec": {
      "name": "python3",
      "display_name": "Python 3"
    },
    "language_info": {
      "name": "python"
    }
  },
  "cells": [
    {
      "cell_type": "markdown",
      "metadata": {
        "id": "view-in-github",
        "colab_type": "text"
      },
      "source": [
        "<a href=\"https://colab.research.google.com/github/JhonatanWalterSen/python/blob/master/%5B14%5DMachine_learning/Python_TOTAL_Numpy.ipynb\" target=\"_parent\"><img src=\"https://colab.research.google.com/assets/colab-badge.svg\" alt=\"Open In Colab\"/></a>"
      ]
    },
    {
      "cell_type": "markdown",
      "metadata": {
        "id": "MuYB4pE_viZG"
      },
      "source": [
        "# Práctica de la librería Numpy\n",
        "\n",
        "En este notebook, se desarrollarán una serie de tareas utilizando la librería Numpy (Numerical Python).\n",
        "\n",
        "Se proponen y documentan posibles formas de resolver los ejercicios, pero las mismas no son únicas.\n",
        "\n",
        "Siempre es una buena idea verificar la [Documentación Oficial de Numpy](https://numpy.org/devdocs/user/index.html), donde es posible encontrar todo tipo de información referida a esta librería. Y si te quedas trabado, busca en Google \"como hacer [algo] con Numpy\". Hay enormes probabilidades de que esa pregunta ya haya sido respondida!"
      ]
    },
    {
      "cell_type": "code",
      "metadata": {
        "id": "Hrz__kvsviZL"
      },
      "source": [
        "# Importamos Numpy con su abreviación \"np\"\n",
        "import numpy as np"
      ],
      "execution_count": 1,
      "outputs": []
    },
    {
      "cell_type": "code",
      "metadata": {
        "id": "9fwuO-3_viZM"
      },
      "source": [
        "# Podemos crear arrays de una dimensión con la función np.array()\n",
        "array_unidim = np.array([1,2,3,4,5,6,7,8])\n",
        "\n",
        "# O un array de dos dimensiones (bidimensional)\n",
        "array_bidim = np.array([[1, 2, 3],\n",
        "                       [4, 5, 6]])\n",
        "\n",
        "# O un array de tres dimensiones (tridimensional)\n",
        "array_tridim = np.array([[[1, 2, 3],\n",
        "                       [4, 5, 6]],\n",
        "                         [[8, 9, 10],\n",
        "                          [11, 12, 13]]])"
      ],
      "execution_count": 3,
      "outputs": []
    },
    {
      "cell_type": "markdown",
      "metadata": {
        "id": "qp2_ZpJXviZN"
      },
      "source": [
        "Para cada uno de estos arrays, podemos obtener sus propiedades, tales como su \"forma\", número de dimensiones, tipos de datos y tamaño."
      ]
    },
    {
      "cell_type": "code",
      "metadata": {
        "id": "m2HD8334viZN",
        "colab": {
          "base_uri": "https://localhost:8080/"
        },
        "outputId": "fae1d5d1-a9e1-4167-f2a7-9e3862ed6346"
      },
      "source": [
        "# Atributos del array unidimensional (forma, número de dimensiones, tipos de datos, tamaño, y tipo)\n",
        "array_bidim.shape, array_bidim.ndim, array_bidim.dtype, array_bidim.size, type(array_bidim)"
      ],
      "execution_count": 5,
      "outputs": [
        {
          "output_type": "execute_result",
          "data": {
            "text/plain": [
              "((2, 3), 2, dtype('int64'), 6, numpy.ndarray)"
            ]
          },
          "metadata": {},
          "execution_count": 5
        }
      ]
    },
    {
      "cell_type": "code",
      "metadata": {
        "id": "CW6dU4z6viZO",
        "colab": {
          "base_uri": "https://localhost:8080/"
        },
        "outputId": "d0527c37-df95-469c-f726-6b0c7e487c91"
      },
      "source": [
        "# Atributos del array bidimensional\n",
        "array_bidim.shape, array_bidim.ndim, array_bidim.dtype, array_bidim.size, type(array_bidim)"
      ],
      "execution_count": 6,
      "outputs": [
        {
          "output_type": "execute_result",
          "data": {
            "text/plain": [
              "((2, 3), 2, dtype('int64'), 6, numpy.ndarray)"
            ]
          },
          "metadata": {},
          "execution_count": 6
        }
      ]
    },
    {
      "cell_type": "code",
      "metadata": {
        "id": "2dQw-98tviZP",
        "colab": {
          "base_uri": "https://localhost:8080/"
        },
        "outputId": "2762aef4-2b6d-46fd-ee1c-dd98622701ee"
      },
      "source": [
        "# Atributos del array tridimensional\n",
        "array_tridim.shape, array_tridim.ndim, array_tridim.dtype, array_tridim.size, type(array_tridim)"
      ],
      "execution_count": 7,
      "outputs": [
        {
          "output_type": "execute_result",
          "data": {
            "text/plain": [
              "((2, 2, 3), 3, dtype('int64'), 12, numpy.ndarray)"
            ]
          },
          "metadata": {},
          "execution_count": 7
        }
      ]
    },
    {
      "cell_type": "code",
      "metadata": {
        "id": "bqWXuSpEviZQ",
        "colab": {
          "base_uri": "https://localhost:8080/",
          "height": 149
        },
        "outputId": "95f58eba-f18c-4672-bee6-5c4a4e2eda1c"
      },
      "source": [
        "# Importamos pandas como pd, y creamos un DataFrame a partir del array bidimensional\n",
        "import pandas as pd\n",
        "datos = pd.DataFrame(array_bidim)\n",
        "datos"
      ],
      "execution_count": 10,
      "outputs": [
        {
          "output_type": "execute_result",
          "data": {
            "text/plain": [
              "   0  1  2\n",
              "0  1  2  3\n",
              "1  4  5  6"
            ],
            "text/html": [
              "\n",
              "  <div id=\"df-05d21ece-36dd-4b6d-a70e-fa9baa74bb01\">\n",
              "    <div class=\"colab-df-container\">\n",
              "      <div>\n",
              "<style scoped>\n",
              "    .dataframe tbody tr th:only-of-type {\n",
              "        vertical-align: middle;\n",
              "    }\n",
              "\n",
              "    .dataframe tbody tr th {\n",
              "        vertical-align: top;\n",
              "    }\n",
              "\n",
              "    .dataframe thead th {\n",
              "        text-align: right;\n",
              "    }\n",
              "</style>\n",
              "<table border=\"1\" class=\"dataframe\">\n",
              "  <thead>\n",
              "    <tr style=\"text-align: right;\">\n",
              "      <th></th>\n",
              "      <th>0</th>\n",
              "      <th>1</th>\n",
              "      <th>2</th>\n",
              "    </tr>\n",
              "  </thead>\n",
              "  <tbody>\n",
              "    <tr>\n",
              "      <th>0</th>\n",
              "      <td>1</td>\n",
              "      <td>2</td>\n",
              "      <td>3</td>\n",
              "    </tr>\n",
              "    <tr>\n",
              "      <th>1</th>\n",
              "      <td>4</td>\n",
              "      <td>5</td>\n",
              "      <td>6</td>\n",
              "    </tr>\n",
              "  </tbody>\n",
              "</table>\n",
              "</div>\n",
              "      <button class=\"colab-df-convert\" onclick=\"convertToInteractive('df-05d21ece-36dd-4b6d-a70e-fa9baa74bb01')\"\n",
              "              title=\"Convert this dataframe to an interactive table.\"\n",
              "              style=\"display:none;\">\n",
              "        \n",
              "  <svg xmlns=\"http://www.w3.org/2000/svg\" height=\"24px\"viewBox=\"0 0 24 24\"\n",
              "       width=\"24px\">\n",
              "    <path d=\"M0 0h24v24H0V0z\" fill=\"none\"/>\n",
              "    <path d=\"M18.56 5.44l.94 2.06.94-2.06 2.06-.94-2.06-.94-.94-2.06-.94 2.06-2.06.94zm-11 1L8.5 8.5l.94-2.06 2.06-.94-2.06-.94L8.5 2.5l-.94 2.06-2.06.94zm10 10l.94 2.06.94-2.06 2.06-.94-2.06-.94-.94-2.06-.94 2.06-2.06.94z\"/><path d=\"M17.41 7.96l-1.37-1.37c-.4-.4-.92-.59-1.43-.59-.52 0-1.04.2-1.43.59L10.3 9.45l-7.72 7.72c-.78.78-.78 2.05 0 2.83L4 21.41c.39.39.9.59 1.41.59.51 0 1.02-.2 1.41-.59l7.78-7.78 2.81-2.81c.8-.78.8-2.07 0-2.86zM5.41 20L4 18.59l7.72-7.72 1.47 1.35L5.41 20z\"/>\n",
              "  </svg>\n",
              "      </button>\n",
              "      \n",
              "  <style>\n",
              "    .colab-df-container {\n",
              "      display:flex;\n",
              "      flex-wrap:wrap;\n",
              "      gap: 12px;\n",
              "    }\n",
              "\n",
              "    .colab-df-convert {\n",
              "      background-color: #E8F0FE;\n",
              "      border: none;\n",
              "      border-radius: 50%;\n",
              "      cursor: pointer;\n",
              "      display: none;\n",
              "      fill: #1967D2;\n",
              "      height: 32px;\n",
              "      padding: 0 0 0 0;\n",
              "      width: 32px;\n",
              "    }\n",
              "\n",
              "    .colab-df-convert:hover {\n",
              "      background-color: #E2EBFA;\n",
              "      box-shadow: 0px 1px 2px rgba(60, 64, 67, 0.3), 0px 1px 3px 1px rgba(60, 64, 67, 0.15);\n",
              "      fill: #174EA6;\n",
              "    }\n",
              "\n",
              "    [theme=dark] .colab-df-convert {\n",
              "      background-color: #3B4455;\n",
              "      fill: #D2E3FC;\n",
              "    }\n",
              "\n",
              "    [theme=dark] .colab-df-convert:hover {\n",
              "      background-color: #434B5C;\n",
              "      box-shadow: 0px 1px 3px 1px rgba(0, 0, 0, 0.15);\n",
              "      filter: drop-shadow(0px 1px 2px rgba(0, 0, 0, 0.3));\n",
              "      fill: #FFFFFF;\n",
              "    }\n",
              "  </style>\n",
              "\n",
              "      <script>\n",
              "        const buttonEl =\n",
              "          document.querySelector('#df-05d21ece-36dd-4b6d-a70e-fa9baa74bb01 button.colab-df-convert');\n",
              "        buttonEl.style.display =\n",
              "          google.colab.kernel.accessAllowed ? 'block' : 'none';\n",
              "\n",
              "        async function convertToInteractive(key) {\n",
              "          const element = document.querySelector('#df-05d21ece-36dd-4b6d-a70e-fa9baa74bb01');\n",
              "          const dataTable =\n",
              "            await google.colab.kernel.invokeFunction('convertToInteractive',\n",
              "                                                     [key], {});\n",
              "          if (!dataTable) return;\n",
              "\n",
              "          const docLinkHtml = 'Like what you see? Visit the ' +\n",
              "            '<a target=\"_blank\" href=https://colab.research.google.com/notebooks/data_table.ipynb>data table notebook</a>'\n",
              "            + ' to learn more about interactive tables.';\n",
              "          element.innerHTML = '';\n",
              "          dataTable['output_type'] = 'display_data';\n",
              "          await google.colab.output.renderOutput(dataTable, element);\n",
              "          const docLink = document.createElement('div');\n",
              "          docLink.innerHTML = docLinkHtml;\n",
              "          element.appendChild(docLink);\n",
              "        }\n",
              "      </script>\n",
              "    </div>\n",
              "  </div>\n",
              "  "
            ]
          },
          "metadata": {},
          "execution_count": 10
        }
      ]
    },
    {
      "cell_type": "code",
      "metadata": {
        "id": "uxuBbWJlviZQ",
        "colab": {
          "base_uri": "https://localhost:8080/"
        },
        "outputId": "718e335b-75a9-48c2-cace-e2692f877d03"
      },
      "source": [
        "# Creamos un array de tamaño 4x3, formado únicamente por unos (1)\n",
        "unos = np.ones((4,3))\n",
        "unos"
      ],
      "execution_count": 11,
      "outputs": [
        {
          "output_type": "execute_result",
          "data": {
            "text/plain": [
              "array([[1., 1., 1.],\n",
              "       [1., 1., 1.],\n",
              "       [1., 1., 1.],\n",
              "       [1., 1., 1.]])"
            ]
          },
          "metadata": {},
          "execution_count": 11
        }
      ]
    },
    {
      "cell_type": "code",
      "metadata": {
        "id": "lf4ntwB-viZR",
        "colab": {
          "base_uri": "https://localhost:8080/"
        },
        "outputId": "51f4a2c6-e482-4ec6-ed40-20c0e6691518"
      },
      "source": [
        "# Creamos un array de tamaño 2x4x3, formado únicamente por ceros (0)\n",
        "ceros = np.zeros((2,4,3))\n",
        "ceros"
      ],
      "execution_count": 12,
      "outputs": [
        {
          "output_type": "execute_result",
          "data": {
            "text/plain": [
              "array([[[0., 0., 0.],\n",
              "        [0., 0., 0.],\n",
              "        [0., 0., 0.],\n",
              "        [0., 0., 0.]],\n",
              "\n",
              "       [[0., 0., 0.],\n",
              "        [0., 0., 0.],\n",
              "        [0., 0., 0.],\n",
              "        [0., 0., 0.]]])"
            ]
          },
          "metadata": {},
          "execution_count": 12
        }
      ]
    },
    {
      "cell_type": "code",
      "metadata": {
        "id": "HSJS5vPvviZS",
        "colab": {
          "base_uri": "https://localhost:8080/"
        },
        "outputId": "a8b46f58-31c8-48bc-9b04-435861667e53"
      },
      "source": [
        "# Creamos un array de números en el rango de 0 a 100, con un paso de 5\n",
        "array_1 = np.arange(0, 100, 5)\n",
        "array_1"
      ],
      "execution_count": 14,
      "outputs": [
        {
          "output_type": "execute_result",
          "data": {
            "text/plain": [
              "array([ 0,  5, 10, 15, 20, 25, 30, 35, 40, 45, 50, 55, 60, 65, 70, 75, 80,\n",
              "       85, 90, 95])"
            ]
          },
          "metadata": {},
          "execution_count": 14
        }
      ]
    },
    {
      "cell_type": "code",
      "metadata": {
        "id": "IuSvyty3viZT",
        "colab": {
          "base_uri": "https://localhost:8080/"
        },
        "outputId": "00655a69-7ba4-4489-e318-6da7eb417925"
      },
      "source": [
        "# Creamos un array de números aleatorios enteros comprendidos en entre 0 y 10, de tamaño (2, 5)\n",
        "array_2 = np.random.randint(0, 10,(2, 5))\n",
        "array_2"
      ],
      "execution_count": 17,
      "outputs": [
        {
          "output_type": "execute_result",
          "data": {
            "text/plain": [
              "array([[9, 4, 5, 4, 9],\n",
              "       [5, 0, 3, 6, 8]])"
            ]
          },
          "metadata": {},
          "execution_count": 17
        }
      ]
    },
    {
      "cell_type": "code",
      "metadata": {
        "id": "grncP2mwviZT",
        "colab": {
          "base_uri": "https://localhost:8080/"
        },
        "outputId": "a3e241ec-6ab5-465d-de5a-b588f709870c"
      },
      "source": [
        "# Creamos un array de números aleatorios decimales comprendidos en entre 0 y 1, de tamaño (3, 5)\n",
        "array_3 = np.random.random((3,5))\n",
        "array_3"
      ],
      "execution_count": 19,
      "outputs": [
        {
          "output_type": "execute_result",
          "data": {
            "text/plain": [
              "array([[0.20866059, 0.48939058, 0.82117539, 0.38890766, 0.15172484],\n",
              "       [0.42736917, 0.02657792, 0.37518276, 0.88657649, 0.64599267],\n",
              "       [0.08602682, 0.88660158, 0.30710485, 0.85050322, 0.08109328]])"
            ]
          },
          "metadata": {},
          "execution_count": 19
        }
      ]
    },
    {
      "cell_type": "code",
      "metadata": {
        "id": "8pCexJ6zviZT",
        "colab": {
          "base_uri": "https://localhost:8080/"
        },
        "outputId": "81efa305-d28d-43a4-ff43-eee9d2fdbcb8"
      },
      "source": [
        "# Establecemos la \"semilla\" de números aleatorios en 27\n",
        "np.random.seed(27)\n",
        "\n",
        "# Creamos un array de números aleatorios enteros comprendidos en entre 0 y 10, de tamaño (3, 5)\n",
        "array_4 = np.random.randint(0, 10,(3, 5))\n",
        "array_4"
      ],
      "execution_count": 23,
      "outputs": [
        {
          "output_type": "execute_result",
          "data": {
            "text/plain": [
              "array([[3, 8, 8, 8, 0],\n",
              "       [5, 8, 9, 1, 2],\n",
              "       [1, 1, 4, 6, 3]])"
            ]
          },
          "metadata": {},
          "execution_count": 23
        }
      ]
    },
    {
      "cell_type": "markdown",
      "metadata": {
        "id": "N41yqfNDviZU"
      },
      "source": [
        "¿Qué ocurre al correr la última celda nuevamente, a diferencia de las anteriores?"
      ]
    },
    {
      "cell_type": "code",
      "metadata": {
        "id": "acrAc-j4viZY",
        "colab": {
          "base_uri": "https://localhost:8080/"
        },
        "outputId": "61d4063b-8265-4b02-83b1-c0ead8e13a9b"
      },
      "source": [
        "# Encontramos los valores únicos del array_4\n",
        "np.unique(array_4)"
      ],
      "execution_count": 24,
      "outputs": [
        {
          "output_type": "execute_result",
          "data": {
            "text/plain": [
              "array([0, 1, 2, 3, 4, 5, 6, 8, 9])"
            ]
          },
          "metadata": {},
          "execution_count": 24
        }
      ]
    },
    {
      "cell_type": "code",
      "metadata": {
        "id": "d-pXWguvviZZ",
        "colab": {
          "base_uri": "https://localhost:8080/"
        },
        "outputId": "53e187cd-3865-496a-c7e5-fd425ea42ed1"
      },
      "source": [
        "# Extraemos el elemento de índice 1 del array_4\n",
        "array_4[1]"
      ],
      "execution_count": 25,
      "outputs": [
        {
          "output_type": "execute_result",
          "data": {
            "text/plain": [
              "array([5, 8, 9, 1, 2])"
            ]
          },
          "metadata": {},
          "execution_count": 25
        }
      ]
    },
    {
      "cell_type": "code",
      "metadata": {
        "id": "cVx_UouPviZa",
        "colab": {
          "base_uri": "https://localhost:8080/"
        },
        "outputId": "9aa6d269-dec7-4922-bbea-541b7b1147c8"
      },
      "source": [
        "# Extraemos las primeras dos filas del array_4\n",
        "array_4[:2]"
      ],
      "execution_count": 27,
      "outputs": [
        {
          "output_type": "execute_result",
          "data": {
            "text/plain": [
              "array([[3, 8, 8, 8, 0],\n",
              "       [5, 8, 9, 1, 2]])"
            ]
          },
          "metadata": {},
          "execution_count": 27
        }
      ]
    },
    {
      "cell_type": "code",
      "metadata": {
        "id": "rIsVaI-JviZa",
        "colab": {
          "base_uri": "https://localhost:8080/"
        },
        "outputId": "35973424-2bb4-41e6-ef3e-0a808ed91b07"
      },
      "source": [
        "# Extraemos los dos primeros datos de las primeras dos filas del array_4\n",
        "array_4[:2, :2]"
      ],
      "execution_count": 28,
      "outputs": [
        {
          "output_type": "execute_result",
          "data": {
            "text/plain": [
              "array([[3, 8],\n",
              "       [5, 8]])"
            ]
          },
          "metadata": {},
          "execution_count": 28
        }
      ]
    },
    {
      "cell_type": "code",
      "metadata": {
        "id": "3sw4JCF6viZb"
      },
      "source": [
        "# Creamos dos arrays de tamaño 3x4: uno relleno de números aleatorios entre 0 y 10, y otro relleno de unos\n",
        "array_5 = np.random.randint(0, 10, (3, 4))\n",
        "array_6 = np.ones((3,4))"
      ],
      "execution_count": 32,
      "outputs": []
    },
    {
      "cell_type": "code",
      "metadata": {
        "id": "kVas2wqdviZb",
        "colab": {
          "base_uri": "https://localhost:8080/"
        },
        "outputId": "b84f4f03-2ef6-4530-a7d0-0a0a889cb182"
      },
      "source": [
        "# invocamos el array_5\n",
        "array_5"
      ],
      "execution_count": 33,
      "outputs": [
        {
          "output_type": "execute_result",
          "data": {
            "text/plain": [
              "array([[9, 2, 2, 3],\n",
              "       [0, 1, 5, 9],\n",
              "       [5, 1, 3, 9]])"
            ]
          },
          "metadata": {},
          "execution_count": 33
        }
      ]
    },
    {
      "cell_type": "code",
      "metadata": {
        "id": "ZnZoUjRIviZb",
        "colab": {
          "base_uri": "https://localhost:8080/"
        },
        "outputId": "4a6dcbc4-faf1-421d-e69f-12c7b04e6a95"
      },
      "source": [
        "# invocamos el array_6\n",
        "array_6"
      ],
      "execution_count": 34,
      "outputs": [
        {
          "output_type": "execute_result",
          "data": {
            "text/plain": [
              "array([[1., 1., 1., 1.],\n",
              "       [1., 1., 1., 1.],\n",
              "       [1., 1., 1., 1.]])"
            ]
          },
          "metadata": {},
          "execution_count": 34
        }
      ]
    },
    {
      "cell_type": "code",
      "metadata": {
        "id": "EoBkbsHqviZb",
        "colab": {
          "base_uri": "https://localhost:8080/"
        },
        "outputId": "75c5a8ab-a3c5-40c8-9435-2d967b711422"
      },
      "source": [
        "# Sumamos los dos arrays\n",
        "array_5 + array_6"
      ],
      "execution_count": 36,
      "outputs": [
        {
          "output_type": "execute_result",
          "data": {
            "text/plain": [
              "array([[10.,  3.,  3.,  4.],\n",
              "       [ 1.,  2.,  6., 10.],\n",
              "       [ 6.,  2.,  4., 10.]])"
            ]
          },
          "metadata": {},
          "execution_count": 36
        }
      ]
    },
    {
      "cell_type": "code",
      "metadata": {
        "id": "493z2XKFviZc",
        "colab": {
          "base_uri": "https://localhost:8080/"
        },
        "outputId": "287071d6-a3bf-4168-80ef-31544ffd7b0a"
      },
      "source": [
        "# Creamos ahora un array de tamaño (4,3) lleno de unos\n",
        "array_7 = np.ones((4,3))\n",
        "array_7"
      ],
      "execution_count": 38,
      "outputs": [
        {
          "output_type": "execute_result",
          "data": {
            "text/plain": [
              "array([[1., 1., 1.],\n",
              "       [1., 1., 1.],\n",
              "       [1., 1., 1.],\n",
              "       [1., 1., 1.]])"
            ]
          },
          "metadata": {},
          "execution_count": 38
        }
      ]
    },
    {
      "cell_type": "code",
      "metadata": {
        "id": "f19RtdoYviZc",
        "colab": {
          "base_uri": "https://localhost:8080/",
          "height": 182
        },
        "outputId": "8f0279e9-0b27-4eca-8de8-8e6544b18f95"
      },
      "source": [
        "# Intentaremos sumar los arrays 6 y 7\n",
        "array_6 + array_7\n"
      ],
      "execution_count": 40,
      "outputs": [
        {
          "output_type": "error",
          "ename": "ValueError",
          "evalue": "ignored",
          "traceback": [
            "\u001b[0;31m---------------------------------------------------------------------------\u001b[0m",
            "\u001b[0;31mValueError\u001b[0m                                Traceback (most recent call last)",
            "\u001b[0;32m<ipython-input-40-e74e21a61c65>\u001b[0m in \u001b[0;36m<cell line: 2>\u001b[0;34m()\u001b[0m\n\u001b[1;32m      1\u001b[0m \u001b[0;31m# Intentaremos sumar los arrays 6 y 7\u001b[0m\u001b[0;34m\u001b[0m\u001b[0;34m\u001b[0m\u001b[0m\n\u001b[0;32m----> 2\u001b[0;31m \u001b[0marray_6\u001b[0m \u001b[0;34m+\u001b[0m \u001b[0marray_7\u001b[0m\u001b[0;34m\u001b[0m\u001b[0;34m\u001b[0m\u001b[0m\n\u001b[0m",
            "\u001b[0;31mValueError\u001b[0m: operands could not be broadcast together with shapes (3,4) (4,3) "
          ]
        }
      ]
    },
    {
      "cell_type": "markdown",
      "metadata": {
        "id": "wZKsfqU4viZc"
      },
      "source": [
        "¿A qué se debe el error anterior? ¿Qué deberíamos tener en cuenta para que no suceda?"
      ]
    },
    {
      "cell_type": "code",
      "metadata": {
        "id": "obwyxLmWviZc",
        "colab": {
          "base_uri": "https://localhost:8080/"
        },
        "outputId": "7d7279b3-2bd3-4e04-d7b6-17699e71eb1f"
      },
      "source": [
        "# Entonces crearemos otro array de tamaño (4,3) lleno de unos\n",
        "array_8 = np.ones((4,3))\n",
        "array_8"
      ],
      "execution_count": 41,
      "outputs": [
        {
          "output_type": "execute_result",
          "data": {
            "text/plain": [
              "array([[1., 1., 1.],\n",
              "       [1., 1., 1.],\n",
              "       [1., 1., 1.],\n",
              "       [1., 1., 1.]])"
            ]
          },
          "metadata": {},
          "execution_count": 41
        }
      ]
    },
    {
      "cell_type": "code",
      "metadata": {
        "id": "JyBEsQ5NviZd",
        "colab": {
          "base_uri": "https://localhost:8080/"
        },
        "outputId": "46afc4c0-b0fe-44c5-9ae5-d968813e2d8a"
      },
      "source": [
        "# Restamos el array_8 al array_7\n",
        "array_8 - array_7"
      ],
      "execution_count": 42,
      "outputs": [
        {
          "output_type": "execute_result",
          "data": {
            "text/plain": [
              "array([[0., 0., 0.],\n",
              "       [0., 0., 0.],\n",
              "       [0., 0., 0.],\n",
              "       [0., 0., 0.]])"
            ]
          },
          "metadata": {},
          "execution_count": 42
        }
      ]
    },
    {
      "cell_type": "code",
      "metadata": {
        "id": "utZb5NTzviZd"
      },
      "source": [
        "# Creamos otros dos arrays de tamaño 3x3 con números aleatorios del 1 al 5\n",
        "array_9 = np.random.randint(1,5 , (3, 3))\n",
        "array_10 = np.random.randint(1,5 , (3, 3))"
      ],
      "execution_count": 43,
      "outputs": []
    },
    {
      "cell_type": "code",
      "metadata": {
        "id": "u1vV-B5C2vSk",
        "colab": {
          "base_uri": "https://localhost:8080/"
        },
        "outputId": "5714c1c3-2d9e-4f07-9197-05348e2578ad"
      },
      "source": [
        "# invocamos el array_9\n",
        "array_9"
      ],
      "execution_count": 44,
      "outputs": [
        {
          "output_type": "execute_result",
          "data": {
            "text/plain": [
              "array([[3, 2, 1],\n",
              "       [4, 4, 4],\n",
              "       [1, 4, 3]])"
            ]
          },
          "metadata": {},
          "execution_count": 44
        }
      ]
    },
    {
      "cell_type": "code",
      "metadata": {
        "id": "79rO6fGL2wvE",
        "colab": {
          "base_uri": "https://localhost:8080/"
        },
        "outputId": "a8214e05-bace-4c69-9bd1-b3a3f68494be"
      },
      "source": [
        "# invocamos el array_10\n",
        "array_10"
      ],
      "execution_count": 45,
      "outputs": [
        {
          "output_type": "execute_result",
          "data": {
            "text/plain": [
              "array([[2, 3, 1],\n",
              "       [1, 3, 1],\n",
              "       [3, 1, 2]])"
            ]
          },
          "metadata": {},
          "execution_count": 45
        }
      ]
    },
    {
      "cell_type": "code",
      "metadata": {
        "id": "ZhBCrrbKviZd",
        "colab": {
          "base_uri": "https://localhost:8080/"
        },
        "outputId": "95944ba5-a13d-4a1a-ee65-72c48d58332f"
      },
      "source": [
        "# Multiplicamos los últimos dos arrays entre sí\n",
        "array_9 * array_10"
      ],
      "execution_count": 46,
      "outputs": [
        {
          "output_type": "execute_result",
          "data": {
            "text/plain": [
              "array([[ 6,  6,  1],\n",
              "       [ 4, 12,  4],\n",
              "       [ 3,  4,  6]])"
            ]
          },
          "metadata": {},
          "execution_count": 46
        }
      ]
    },
    {
      "cell_type": "code",
      "metadata": {
        "id": "-u-zydBZviZd",
        "colab": {
          "base_uri": "https://localhost:8080/"
        },
        "outputId": "e63828fe-a46d-4e09-b89e-2cd065dfc00f"
      },
      "source": [
        "# Elevamos el array_9 al cuadrado\n",
        "array_9 ** 2"
      ],
      "execution_count": 47,
      "outputs": [
        {
          "output_type": "execute_result",
          "data": {
            "text/plain": [
              "array([[ 9,  4,  1],\n",
              "       [16, 16, 16],\n",
              "       [ 1, 16,  9]])"
            ]
          },
          "metadata": {},
          "execution_count": 47
        }
      ]
    },
    {
      "cell_type": "code",
      "metadata": {
        "id": "dMEqsjSD3D6F",
        "colab": {
          "base_uri": "https://localhost:8080/"
        },
        "outputId": "901b62ab-500f-42f9-ebde-866a95c7bacf"
      },
      "source": [
        "# Buscamos la raíz cuadrada del array_10\n",
        "np.sqrt(array_10)"
      ],
      "execution_count": 50,
      "outputs": [
        {
          "output_type": "execute_result",
          "data": {
            "text/plain": [
              "array([[1.41421356, 1.73205081, 1.        ],\n",
              "       [1.        , 1.73205081, 1.        ],\n",
              "       [1.73205081, 1.        , 1.41421356]])"
            ]
          },
          "metadata": {},
          "execution_count": 50
        }
      ]
    },
    {
      "cell_type": "code",
      "metadata": {
        "id": "4TlMFRRFviZd",
        "colab": {
          "base_uri": "https://localhost:8080/"
        },
        "outputId": "a235eaf4-089f-4539-a796-1f269bd3dfe8"
      },
      "source": [
        "# Hallamos el promedio de los valores del array_9\n",
        "array_9.mean()"
      ],
      "execution_count": 51,
      "outputs": [
        {
          "output_type": "execute_result",
          "data": {
            "text/plain": [
              "2.888888888888889"
            ]
          },
          "metadata": {},
          "execution_count": 51
        }
      ]
    },
    {
      "cell_type": "code",
      "metadata": {
        "id": "mu1-ASw7viZd",
        "colab": {
          "base_uri": "https://localhost:8080/"
        },
        "outputId": "c7f5eeff-b747-44bd-b7fa-a2570b69d21e"
      },
      "source": [
        "# Hallamos el valor máximo de los valores del array_9\n",
        "array_9.max()"
      ],
      "execution_count": 52,
      "outputs": [
        {
          "output_type": "execute_result",
          "data": {
            "text/plain": [
              "4"
            ]
          },
          "metadata": {},
          "execution_count": 52
        }
      ]
    },
    {
      "cell_type": "code",
      "metadata": {
        "id": "iKAPHmnVviZe",
        "colab": {
          "base_uri": "https://localhost:8080/"
        },
        "outputId": "856ea796-3703-4650-c52d-b5dacc6430f1"
      },
      "source": [
        "# Hallamos el valor mínimo de los valores del array_9\n",
        "array_9.min()"
      ],
      "execution_count": 53,
      "outputs": [
        {
          "output_type": "execute_result",
          "data": {
            "text/plain": [
              "1"
            ]
          },
          "metadata": {},
          "execution_count": 53
        }
      ]
    },
    {
      "cell_type": "code",
      "metadata": {
        "id": "K2N9WX6dviZe"
      },
      "source": [
        "# Cambiamos la forma del array_9 por una de 9x1, y lo almacenamos como array_11\n",
        "array_11 = array_9.reshape((9, 1))"
      ],
      "execution_count": 54,
      "outputs": []
    },
    {
      "cell_type": "code",
      "metadata": {
        "id": "YM2wKMOk3vrJ",
        "colab": {
          "base_uri": "https://localhost:8080/"
        },
        "outputId": "4b7c8e64-54b6-4a71-f7fa-37180ff49e8d"
      },
      "source": [
        "# invocamos el array_11\n",
        "array_11"
      ],
      "execution_count": 55,
      "outputs": [
        {
          "output_type": "execute_result",
          "data": {
            "text/plain": [
              "array([[3],\n",
              "       [2],\n",
              "       [1],\n",
              "       [4],\n",
              "       [4],\n",
              "       [4],\n",
              "       [1],\n",
              "       [4],\n",
              "       [3]])"
            ]
          },
          "metadata": {},
          "execution_count": 55
        }
      ]
    },
    {
      "cell_type": "code",
      "metadata": {
        "id": "hjv049niviZe"
      },
      "source": [
        "# Transponemos el array_11"
      ],
      "execution_count": null,
      "outputs": []
    },
    {
      "cell_type": "code",
      "metadata": {
        "id": "ygIkkZcwviZg"
      },
      "source": [
        "# Comparamos el array_9 y el array_10, para saber cuáles elementos del array_9 son mayores a los del array_10"
      ],
      "execution_count": null,
      "outputs": []
    },
    {
      "cell_type": "markdown",
      "metadata": {
        "id": "-MNVhc50viZg"
      },
      "source": [
        "¿Qué tipos de datos forman parte del array de resultados?"
      ]
    },
    {
      "cell_type": "code",
      "metadata": {
        "id": "JRRyJjDdEUd4"
      },
      "source": [
        "# Veamos sus nuevos tipos de datos"
      ],
      "execution_count": null,
      "outputs": []
    },
    {
      "cell_type": "code",
      "metadata": {
        "id": "toyvK5rYviZh"
      },
      "source": [
        "# Alguno de los elementos del array_9 es igual su equivalente del array_10?"
      ],
      "execution_count": null,
      "outputs": []
    },
    {
      "cell_type": "code",
      "metadata": {
        "id": "FXguC1-UviZg"
      },
      "source": [
        "# Comparamos nuevamente ambos arrays, en esta ocasión con >="
      ],
      "execution_count": null,
      "outputs": []
    },
    {
      "cell_type": "code",
      "metadata": {
        "id": "Ws2bJ0ZEviZg"
      },
      "source": [
        "# Buscamos los elementos del array_9 que son mayores a 2"
      ],
      "execution_count": null,
      "outputs": []
    },
    {
      "cell_type": "code",
      "metadata": {
        "id": "z4XeFVsoviZh"
      },
      "source": [
        "# Ordenamos de menor a mayor los elementos dentro del array_9"
      ],
      "execution_count": null,
      "outputs": []
    }
  ]
}